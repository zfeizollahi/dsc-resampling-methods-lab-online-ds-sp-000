{
 "cells": [
  {
   "cell_type": "markdown",
   "metadata": {},
   "source": [
    "# Resampling Methods - Lab\n",
    "\n",
    "## Introduction\n",
    "\n",
    "Now that you have some preliminary background on bootstrapping, jackknife, and permutation tests, its time to practice those skills by coding them into functions. You'll then apply these tests to a hypothesis test and compare the results to a parametric t-test.\n",
    "\n",
    "## Objectives\n",
    "\n",
    "In this lab you will: \n",
    "\n",
    "* Create functions that perform resampling techniques and use them on datasets"
   ]
  },
  {
   "cell_type": "markdown",
   "metadata": {},
   "source": [
    "## Bootstrap sampling\n",
    "\n",
    "\n",
    "Bootstrap sampling works by combining two distinct samples into a universal set and generating random samples from this combined sample space in order to compare these random splits to the two original samples. The idea is to see if the difference between the two **original** samples is statistically significant. If similar differences can be observed through the random generation of samples, then the observed differences are not actually significant.\n",
    "\n",
    "\n",
    "Write a function to perform bootstrap sampling. The function should take in two samples A and B. The two samples need not be the same size. From this, create a universal sample by combining A and B. Then, create a resampled universal sample of the same size using random sampling with replacement. Finally, split this randomly generated universal set into two samples which are the same size as the original samples, A and B. The function should return these resampled samples.\n",
    "\n",
    "Example:\n",
    "\n",
    "```python\n",
    "\n",
    "A = [1,2,3]\n",
    "B = [2,2,5,6]\n",
    "\n",
    "Universal_Set = [1,2,2,2,3,5,6]\n",
    "Resampled_Universal_Set = [6, 2, 3, 2, 1, 1, 2] # Could be different (randomly generated with replacement)\n",
    "\n",
    "Resampled_A = [6,2,3]\n",
    "Resampled_B = [2,1,1,2]\n",
    "```"
   ]
  },
  {
   "cell_type": "code",
   "execution_count": 1,
   "metadata": {},
   "outputs": [],
   "source": [
    "import numpy as np"
   ]
  },
  {
   "cell_type": "code",
   "execution_count": 5,
   "metadata": {},
   "outputs": [],
   "source": [
    "def bootstrap(a, b):\n",
    "    universal_set = a + b\n",
    "    universal_sample = np.random.choice(universal_set, size=len(universal_set), replace=True)\n",
    "    resampled_a = np.random.choice(universal_set, size=len(a), replace=True)\n",
    "    resampled_b = np.random.choice(universal_set, size=len(b), replace=True)\n",
    "    return resampled_a, resampled_b"
   ]
  },
  {
   "cell_type": "code",
   "execution_count": 6,
   "metadata": {},
   "outputs": [
    {
     "data": {
      "text/plain": [
       "(array([5, 2, 2]), array([6, 2, 3, 6]))"
      ]
     },
     "execution_count": 6,
     "metadata": {},
     "output_type": "execute_result"
    }
   ],
   "source": [
    "A = [1,2,3]\n",
    "B = [2,2,5,6]\n",
    "bootstrap(A,B)"
   ]
  },
  {
   "cell_type": "markdown",
   "metadata": {},
   "source": [
    "## Jackknife \n",
    "\n",
    "Write a function that creates additional samples by removing one element at a time. The function should do this for each of the `n` items in the original sample, returning `n` samples, each with `n-1` members."
   ]
  },
  {
   "cell_type": "code",
   "execution_count": 22,
   "metadata": {},
   "outputs": [],
   "source": [
    "def jack1(sample):\n",
    "    \"\"\"This function should take in a list of n observations and return n lists\n",
    "    each with one member (presumably the nth) removed.\"\"\"\n",
    "    samples = []\n",
    "    for i in range(len(sample)):\n",
    "        new_sample = sample[:i] + sample[i+1:]\n",
    "        samples.append(new_sample)\n",
    "    return samples"
   ]
  },
  {
   "cell_type": "code",
   "execution_count": 23,
   "metadata": {},
   "outputs": [
    {
     "data": {
      "text/plain": [
       "[[2, 5, 6], [2, 5, 6], [2, 2, 6], [2, 2, 5]]"
      ]
     },
     "execution_count": 23,
     "metadata": {},
     "output_type": "execute_result"
    }
   ],
   "source": [
    "B = [2,2,5,6]\n",
    "jack1(B)"
   ]
  },
  {
   "cell_type": "markdown",
   "metadata": {},
   "source": [
    "## Permutation testing\n",
    "\n",
    "Define a function that generates all possible, equally sized, two set splits of two sets A and B. Sets A and B need not be the same size, but all of the generated two set splits should be of equal size. For example, if we had a set with 5 members and a set with 7 members, the function would return all possible 5-7 ordered splits of the 12 items.\n",
    "\n",
    "> Note that these are actually combinations! However, as noted previously, permutation tests really investigate possible regroupings of the data observations, so calculating combinations is a more efficient approach!\n",
    "\n",
    "\n",
    "Here's a more in depth example:\n",
    "\n",
    "```python\n",
    "A = [1, 2, 2]\n",
    "B = [1, 3]\n",
    "combT(A, B) \n",
    "[([1,2,2], [1,3]),\n",
    " ([1,2,3], [1,2]),\n",
    " ([1,2,1], [2,3]),\n",
    " ([1,1,3], [2,2]),\n",
    " ([2,2,3], [1,1])]\n",
    "               \n",
    "```  \n",
    "\n",
    "These are all the possible 3-2 member splits of the 5 elements: 1, 1, 2, 2, 3. "
   ]
  },
  {
   "cell_type": "code",
   "execution_count": 26,
   "metadata": {},
   "outputs": [],
   "source": [
    "from itertools import combinations"
   ]
  },
  {
   "cell_type": "code",
   "execution_count": 85,
   "metadata": {},
   "outputs": [],
   "source": [
    "def combT(a,b):\n",
    "    # Your code here\n",
    "    combos = []\n",
    "    c = a + b\n",
    "    a_combos = combinations(c, len(a))    \n",
    "    for i in list(a_combos):\n",
    "        resampled_a = list(i)\n",
    "        resampled_b = c[:]\n",
    "        for x in resampled_a:\n",
    "            resampled_b.remove(x)\n",
    "        combos.append((resampled_a, resampled_b))\n",
    "    return combos"
   ]
  },
  {
   "cell_type": "code",
   "execution_count": 86,
   "metadata": {},
   "outputs": [
    {
     "name": "stdout",
     "output_type": "stream",
     "text": [
      "[([1, 2, 2], [1, 3]), ([1, 2, 1], [2, 3]), ([1, 2, 3], [2, 1]), ([1, 2, 1], [2, 3]), ([1, 2, 3], [2, 1]), ([1, 1, 3], [2, 2]), ([2, 2, 1], [1, 3]), ([2, 2, 3], [1, 1]), ([2, 1, 3], [2, 1]), ([2, 1, 3], [2, 1])]\n"
     ]
    }
   ],
   "source": [
    "A = [1, 2, 2]\n",
    "B = [1, 3]\n",
    "c = combT(A, B)\n",
    "print(c)"
   ]
  },
  {
   "cell_type": "markdown",
   "metadata": {},
   "source": [
    "## Permutation testing in Practice\n",
    "Let's further investigate the scenario proposed in the previous lesson. Below are two samples A and B. The samples are mock data for the blood pressure of sample patients. The research study is looking to validate whether there is a statistical difference in the blood pressure of these two groups using a 5% significance level.  First, calculate the mean blood pressure of each of the two samples. Then, calculate the difference of these means. From there, use your `combT()` function, defined above, to generate all the possible combinations of the entire sample data into A-B splits of equivalent sizes as the original sets. For each of these combinations, calculate the mean blood pressure of the two groups and record the difference between these sample means. The full collection of the difference in means between these generated samples will serve as the denominator to calculate the p-value associated with the difference between the original sample means.\n",
    "\n",
    "For example, in our small handwritten example above:\n",
    "\n",
    "$\\mu_a = \\frac{1+2+2}{3} = \\frac{5}{3}$  \n",
    "and  \n",
    "$\\mu_b = \\frac{1+3}{2} = \\frac{4}{2} = 2$  \n",
    "\n",
    "Giving us\n",
    "\n",
    "$\\mu_a - \\mu_b = \\frac{5}{3} - 2 = \\frac{1}{2}$\n",
    "\n",
    "In comparison, for our various combinations we have:\n",
    "\n",
    "([1,2,2], [1,3]):  $\\mu_a - \\mu_b = \\frac{5}{3} - 2 = \\frac{1}{2}$  \n",
    "([1,2,3], [1,2]):  $\\mu_a - \\mu_b = 2 - \\frac{3}{2} = \\frac{1}{2}$  \n",
    "([1,2,1], [2,3]):  $\\mu_a - \\mu_b = \\frac{4}{3} - \\frac{5}{3} = -\\frac{1}{2}$  \n",
    "([1,1,3], [2,2]):  $\\mu_a - \\mu_b = \\frac{5}{3} - 2 = \\frac{1}{2}$  \n",
    "([2,2,3], [1,1]):  $\\mu_a - \\mu_b = \\frac{7}{3} - 1 = \\frac{4}{3}$  \n",
    "\n",
    "A standard hypothesis test for this scenario might be:\n",
    "\n",
    "$H_0: \\mu_a = \\mu_b$  \n",
    "$H_1: \\mu_a < \\mu_b$  \n",
    "  \n",
    "Thus comparing our sample difference to the differences of our possible combinations, we look at the number of experiments from our combinations space that were the same or greater than our sample statistic, divided by the total number of combinations. In this case, 4 out of 5 of the combination cases produced the same or greater differences in the two sample means. This value .8 is a strong indication that we cannot refute the null hypothesis for this instance."
   ]
  },
  {
   "cell_type": "code",
   "execution_count": 87,
   "metadata": {},
   "outputs": [],
   "source": [
    "a = [109.6927759 , 120.27296943, 103.54012038, 114.16555857,\n",
    "       122.93336175, 110.9271756 , 114.77443758, 116.34159338,\n",
    "       112.66413025, 118.30562665, 132.31196515, 117.99000948]\n",
    "b = [123.98967482, 141.11969004, 117.00293412, 121.6419775 ,\n",
    "       123.2703033 , 123.76944385, 105.95249634, 114.87114479,\n",
    "       130.6878082 , 140.60768727, 121.95433026, 123.11996767,\n",
    "       129.93260914, 121.01049611]"
   ]
  },
  {
   "cell_type": "code",
   "execution_count": 91,
   "metadata": {},
   "outputs": [],
   "source": [
    "# Your code here\n",
    "# ⏰ Expect your code to take several minutes to run\n",
    "mean_a, mean_b = np.mean(a), np.mean(b)\n",
    "mean_diff = mean_a - mean_b\n",
    "combos = combT(a, b)"
   ]
  },
  {
   "cell_type": "code",
   "execution_count": 100,
   "metadata": {},
   "outputs": [
    {
     "data": {
      "text/plain": [
       "0.9890762811021258"
      ]
     },
     "execution_count": 100,
     "metadata": {},
     "output_type": "execute_result"
    }
   ],
   "source": [
    "hyp_greater = 0\n",
    "for i in range(len(combos)):\n",
    "    diff = np.mean(combos[i][0]) - np.mean(combos[i][1])\n",
    "    if diff >= mean_diff:\n",
    "        hyp_greater += 1 \n",
    "p = hyp_greater / len(combos)\n",
    "p"
   ]
  },
  {
   "cell_type": "code",
   "execution_count": 103,
   "metadata": {},
   "outputs": [
    {
     "name": "stdout",
     "output_type": "stream",
     "text": [
      "There are 9657700 sample combinations\n",
      "P value is 0.9890762811021258\n"
     ]
    }
   ],
   "source": [
    "print(\"There are {} sample combinations\".format(len(combos)))\n",
    "print(\"P value is {}\".format(p))"
   ]
  },
  {
   "cell_type": "markdown",
   "metadata": {},
   "source": [
    "We cannot reject the null hypothesis, no difference between groups."
   ]
  },
  {
   "cell_type": "markdown",
   "metadata": {},
   "source": [
    "## T-test revisited\n",
    "\n",
    "The parametric statistical test equivalent to our permutation test above would be a t-test of the two groups. Perform a t-test on the same data above in order to calculate the p-value. How does this compare to the above results?"
   ]
  },
  {
   "cell_type": "code",
   "execution_count": 104,
   "metadata": {},
   "outputs": [],
   "source": [
    "# Your code here\n",
    "import scipy.stats as stats"
   ]
  },
  {
   "cell_type": "code",
   "execution_count": 105,
   "metadata": {},
   "outputs": [
    {
     "data": {
      "text/plain": [
       "Ttest_indResult(statistic=-2.4279196935987, pvalue=0.023053215321495863)"
      ]
     },
     "execution_count": 105,
     "metadata": {},
     "output_type": "execute_result"
    }
   ],
   "source": [
    "stats.ttest_ind(a,b)"
   ]
  },
  {
   "cell_type": "code",
   "execution_count": 127,
   "metadata": {},
   "outputs": [
    {
     "name": "stdout",
     "output_type": "stream",
     "text": [
      "T stat -2.4279196935987\n"
     ]
    },
    {
     "data": {
      "text/plain": [
       "'P value 0.0227187261968659730271280494662278215401'"
      ]
     },
     "execution_count": 127,
     "metadata": {},
     "output_type": "execute_result"
    }
   ],
   "source": [
    "n_1 = len(a)\n",
    "n_2 = len(b)\n",
    "s_1 = np.var(a, ddof=1)\n",
    "s_2 = np.var(b, ddof=1)\n",
    "pooled_var =( s_1*(n_1 - 1) + s_2*(n_2-1) ) / (n_1 + n_2 - 2 )\n",
    "t = (mean_a - mean_b) /np.sqrt( pooled_var *(1/n_1 + 1/n_2))\n",
    "p = stats.t.sf(np.abs(t), n_1 + n_2 - 1) * 2\n",
    "print(\"T stat {}\".format(t))\n",
    "\"P value {:.40f}\".format(float(p))"
   ]
  },
  {
   "cell_type": "code",
   "execution_count": 128,
   "metadata": {},
   "outputs": [
    {
     "data": {
      "text/plain": [
       "(48.187836269434875, 52.568548657565316)"
      ]
     },
     "execution_count": 128,
     "metadata": {},
     "output_type": "execute_result"
    }
   ],
   "source": [
    "#different because np calculates population variance, which denominator has n,\n",
    "#whereas sample variance denominator has n-1\n",
    "np.var(a), sample_variance(np.array(a))"
   ]
  },
  {
   "cell_type": "code",
   "execution_count": 117,
   "metadata": {},
   "outputs": [
    {
     "name": "stdout",
     "output_type": "stream",
     "text": [
      "0.6196331755824978\n"
     ]
    }
   ],
   "source": [
    "#their answer - which doesn't use pooled variance to calculate  t, \n",
    "num = np.mean(a) - np.mean(b)\n",
    "s = np.var(a+b)\n",
    "n = len(a+b)\n",
    "denom = s/np.sqrt(n)\n",
    "t = num / denom\n",
    "pval = stats.t.sf(np.abs(t), n-1)*2\n",
    "print(pval)"
   ]
  },
  {
   "cell_type": "code",
   "execution_count": 120,
   "metadata": {},
   "outputs": [
    {
     "name": "stdout",
     "output_type": "stream",
     "text": [
      "-2.4279196935987\n"
     ]
    }
   ],
   "source": [
    "def sample_variance(sample):\n",
    "    mean = sample.mean()\n",
    "    s_x = np.sum((sample - mean)**2) / (len(sample) - 1)\n",
    "    return s_x\n",
    "def pooled_variance(sample1, sample2):\n",
    "    s1 = sample_variance(sample1)\n",
    "    s2 = sample_variance(sample2)\n",
    "    n1 = len(sample1)\n",
    "    n2 = len(sample2)  \n",
    "    s2_p = (((n1-1) * s1) + ((n2-1) * s2)) / (n1 + n2 - 2)\n",
    "    return s2_p\n",
    "def twosample_tstatistic(expr, ctrl):\n",
    "    s2_p = pooled_variance(expr, ctrl)\n",
    "    n1 = len(expr)\n",
    "    n2 = len(ctrl)\n",
    "    two_ttest = (expr.mean() - ctrl.mean()) / (np.sqrt(s2_p * ( (1/n1) + (1/n2))) ) \n",
    "    return two_ttest\n",
    "t_stat = twosample_tstatistic(np.array(a), np.array(b))\n",
    "print(t_stat)"
   ]
  },
  {
   "cell_type": "code",
   "execution_count": 121,
   "metadata": {},
   "outputs": [
    {
     "name": "stdout",
     "output_type": "stream",
     "text": [
      "0.023053215321495797\n"
     ]
    }
   ],
   "source": [
    "lower_tail = stats.t.cdf(t_stat, (len(a)+len(b)-2), 0, 1.)\n",
    "# Upper tail comulative density function returns area under upper tail curve\n",
    "upper_tail = 1. - stats.t.cdf(np.abs(t_stat), (len(a)+len(b)-2), 0, 1)\n",
    "\n",
    "p_value = lower_tail+upper_tail\n",
    "print(p_value)"
   ]
  },
  {
   "cell_type": "markdown",
   "metadata": {},
   "source": [
    "## Bootstrap applied\n",
    "\n",
    "Use your code above to apply the bootstrap technique to this hypothesis testing scenario. Here's a pseudo-code outline for how to do this:\n",
    "\n",
    "1. Compute the difference between the sample means of A and B\n",
    "2. Initialize a counter for the number of times the difference of the means of resampled samples is greater then or equal to the difference of the means of the original samples\n",
    "3. Repeat the following process 10,000 times:\n",
    "    1. Use the bootstrap sampling function you used above to create new resampled versions of A and B \n",
    "    2. Compute the difference between the means of these resampled samples \n",
    "    3. If the difference between the means of the resampled samples is greater then or equal to the original difference, add 1 the counter you created in step 2\n",
    "4. Compute the ratio between the counter and the number of simulations (10,000) that you performed\n",
    "    > This ratio is the percentage of simulations in which the difference of sample means was greater than the original difference"
   ]
  },
  {
   "cell_type": "markdown",
   "metadata": {},
   "source": [
    "This is a similar exercise as above, but more clearly written, and using bootstrap rather than all combos\n"
   ]
  },
  {
   "cell_type": "markdown",
   "metadata": {},
   "source": [
    "## Summary\n",
    "\n",
    "Well done! In this lab, you practice coding modern statistical resampling techniques of the 20th century! You also started to compare these non-parametric methods to other parametric methods such as the t-test that we previously discussed."
   ]
  }
 ],
 "metadata": {
  "kernelspec": {
   "display_name": "Python 3",
   "language": "python",
   "name": "python3"
  },
  "language_info": {
   "codemirror_mode": {
    "name": "ipython",
    "version": 3
   },
   "file_extension": ".py",
   "mimetype": "text/x-python",
   "name": "python",
   "nbconvert_exporter": "python",
   "pygments_lexer": "ipython3",
   "version": "3.6.9"
  },
  "toc": {
   "base_numbering": 1,
   "nav_menu": {},
   "number_sections": true,
   "sideBar": true,
   "skip_h1_title": false,
   "title_cell": "Table of Contents",
   "title_sidebar": "Contents",
   "toc_cell": false,
   "toc_position": {},
   "toc_section_display": true,
   "toc_window_display": false
  }
 },
 "nbformat": 4,
 "nbformat_minor": 2
}
